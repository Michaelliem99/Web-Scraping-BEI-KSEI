{
 "cells": [
  {
   "cell_type": "markdown",
   "metadata": {},
   "source": [
    "Code History:<br>\n",
    "1. Version 1.0 (2023/03/09):<br>\n",
    "    - Base version, working as expected"
   ]
  },
  {
   "cell_type": "markdown",
   "metadata": {},
   "source": [
    "<strong>Features:</strong><br>\n",
    "- Scrape corporate and government bonds summary and details<br>\n",
    "<br>\n",
    "Plan: Data is scraped <strong>every weekday on 6PM GMT+7</strong>, few hours after the market has closed for the day. So the data you see before 6PM is previous trading day data."
   ]
  },
  {
   "cell_type": "code",
   "execution_count": 1,
   "metadata": {},
   "outputs": [],
   "source": [
    "import json\n",
    "from json.decoder import JSONDecodeError\n",
    "import numpy as np\n",
    "import pandas as pd\n",
    "import concurrent.futures\n",
    "from concurrent.futures import ThreadPoolExecutor, as_completed\n",
    "import time\n",
    "from datetime import datetime\n",
    "from selenium import webdriver\n",
    "from selenium.webdriver.support.wait import WebDriverWait\n",
    "from selenium.webdriver.chrome.options import Options\n",
    "from selenium.webdriver.common.by import By\n",
    "import queue\n",
    "import threading\n",
    "import requests\n",
    "from bs4 import BeautifulSoup\n",
    "from tqdm import tqdm\n",
    "import dateparser\n",
    "\n",
    "import os\n",
    "import sqlalchemy\n",
    "from sqlalchemy import create_engine"
   ]
  },
  {
   "cell_type": "markdown",
   "metadata": {},
   "source": [
    "# Chrome Selenium Starter<br>\n",
    "<br>\n",
    "Why Selenium? Because I need it to bypass cloudfare restriction"
   ]
  },
  {
   "cell_type": "markdown",
   "metadata": {},
   "source": [
    "Initialize the Chrome driver"
   ]
  },
  {
   "cell_type": "code",
   "execution_count": 2,
   "metadata": {},
   "outputs": [],
   "source": [
    "options = Options()\n",
    "options.add_argument(\"--headless=new\")\n",
    "driver = webdriver.Chrome(options=options)"
   ]
  },
  {
   "cell_type": "markdown",
   "metadata": {},
   "source": [
    "# Scrape Bond Summary"
   ]
  },
  {
   "cell_type": "markdown",
   "metadata": {},
   "source": [
    "## BEI Bonds List"
   ]
  },
  {
   "cell_type": "code",
   "execution_count": 3,
   "metadata": {},
   "outputs": [],
   "source": [
    "urls = {\n",
    "    'Corporate Bond':'https://www.idx.co.id/secondary/get/BondSukuk/bond?pageSize=10000&indexFrom=1&bondType=1',\n",
    "    'Goverment Bond':'https://www.idx.co.id/secondary/get/BondSukuk/bond?pageSize=10000&indexFrom=1&bondType=2'  \n",
    "}"
   ]
  },
  {
   "cell_type": "code",
   "execution_count": 4,
   "metadata": {},
   "outputs": [
    {
     "name": "stdout",
     "output_type": "stream",
     "text": [
      "Corporate Bond\n",
      "Goverment Bond\n"
     ]
    }
   ],
   "source": [
    "BEIBondsListDF = pd.DataFrame()\n",
    "for issuer_type in urls:\n",
    "    print(issuer_type)\n",
    "    driver.get(urls[issuer_type])\n",
    "    WebDriverWait(driver, timeout=10).until(lambda d: d.find_element(By.TAG_NAME, 'body'))\n",
    "    BEIBondsListContent = driver.find_element(By.TAG_NAME, value='body').text\n",
    "    BEIBondsTypeListDF = pd.DataFrame(json.loads(BEIBondsListContent)['Results']).drop(columns='Nomor')\n",
    "    BEIBondsTypeListDF['IssuerType'] = issuer_type\n",
    "    \n",
    "    BEIBondsListDF = pd.concat([BEIBondsListDF, BEIBondsTypeListDF])\n",
    "    \n",
    "BEIBondsListDF['MatureDate'] = pd.to_datetime(BEIBondsListDF['MatureDate']).dt.normalize()"
   ]
  },
  {
   "cell_type": "code",
   "execution_count": 5,
   "metadata": {},
   "outputs": [
    {
     "data": {
      "text/html": [
       "<div>\n",
       "<style scoped>\n",
       "    .dataframe tbody tr th:only-of-type {\n",
       "        vertical-align: middle;\n",
       "    }\n",
       "\n",
       "    .dataframe tbody tr th {\n",
       "        vertical-align: top;\n",
       "    }\n",
       "\n",
       "    .dataframe thead th {\n",
       "        text-align: right;\n",
       "    }\n",
       "</style>\n",
       "<table border=\"1\" class=\"dataframe\">\n",
       "  <thead>\n",
       "    <tr style=\"text-align: right;\">\n",
       "      <th></th>\n",
       "      <th>BondId</th>\n",
       "      <th>BondName</th>\n",
       "      <th>IssuerCode</th>\n",
       "      <th>MatureDate</th>\n",
       "      <th>Rating</th>\n",
       "      <th>Outstanding</th>\n",
       "      <th>IssuerType</th>\n",
       "    </tr>\n",
       "  </thead>\n",
       "  <tbody>\n",
       "    <tr>\n",
       "      <th>0</th>\n",
       "      <td>ABLS01XXMF</td>\n",
       "      <td>MTN Asian Bulk Logistics I Tahun 2022</td>\n",
       "      <td>ABLS-M</td>\n",
       "      <td>2027-06-21</td>\n",
       "      <td>None</td>\n",
       "      <td>1.000000e+12</td>\n",
       "      <td>Corporate Bond</td>\n",
       "    </tr>\n",
       "    <tr>\n",
       "      <th>1</th>\n",
       "      <td>ABSM01C</td>\n",
       "      <td>Obligasi AB Sinar Mas Multifinance I Tahun 202...</td>\n",
       "      <td>ABSM</td>\n",
       "      <td>2023-09-04</td>\n",
       "      <td>irA-</td>\n",
       "      <td>3.500000e+10</td>\n",
       "      <td>Corporate Bond</td>\n",
       "    </tr>\n",
       "    <tr>\n",
       "      <th>2</th>\n",
       "      <td>ADCP01B</td>\n",
       "      <td>Obligasi I Adhi Cummuter Properti Tahun 2021 S...</td>\n",
       "      <td>ADCP</td>\n",
       "      <td>2024-05-20</td>\n",
       "      <td>idBBB</td>\n",
       "      <td>9.000000e+09</td>\n",
       "      <td>Corporate Bond</td>\n",
       "    </tr>\n",
       "    <tr>\n",
       "      <th>3</th>\n",
       "      <td>ADCP02A</td>\n",
       "      <td>Obligasi II Adhi Commuter Properti Tahun 2022 ...</td>\n",
       "      <td>ADCP</td>\n",
       "      <td>2023-05-31</td>\n",
       "      <td>idBBB</td>\n",
       "      <td>2.055000e+11</td>\n",
       "      <td>Corporate Bond</td>\n",
       "    </tr>\n",
       "    <tr>\n",
       "      <th>4</th>\n",
       "      <td>ADCP02B</td>\n",
       "      <td>Obligasi II Adhi Commuter Properti Tahun 2022 ...</td>\n",
       "      <td>ADCP</td>\n",
       "      <td>2025-05-24</td>\n",
       "      <td>idBBB</td>\n",
       "      <td>1.020000e+11</td>\n",
       "      <td>Corporate Bond</td>\n",
       "    </tr>\n",
       "    <tr>\n",
       "      <th>...</th>\n",
       "      <td>...</td>\n",
       "      <td>...</td>\n",
       "      <td>...</td>\n",
       "      <td>...</td>\n",
       "      <td>...</td>\n",
       "      <td>...</td>\n",
       "      <td>...</td>\n",
       "    </tr>\n",
       "    <tr>\n",
       "      <th>183</th>\n",
       "      <td>VR0091</td>\n",
       "      <td>Obligasi Negara Republik Indonesia Seri VR0091</td>\n",
       "      <td>GOVT</td>\n",
       "      <td>2030-12-29</td>\n",
       "      <td>None</td>\n",
       "      <td>2.334195e+12</td>\n",
       "      <td>Goverment Bond</td>\n",
       "    </tr>\n",
       "    <tr>\n",
       "      <th>184</th>\n",
       "      <td>VR0092</td>\n",
       "      <td>Obligasi Negara Republik Indonesia Seri VR0092</td>\n",
       "      <td>GOVT</td>\n",
       "      <td>2027-12-29</td>\n",
       "      <td>None</td>\n",
       "      <td>2.981024e+13</td>\n",
       "      <td>Goverment Bond</td>\n",
       "    </tr>\n",
       "    <tr>\n",
       "      <th>185</th>\n",
       "      <td>VR0093</td>\n",
       "      <td>Obligasi Negara Republik Indonesia Seri VR0093</td>\n",
       "      <td>GOVT</td>\n",
       "      <td>2028-12-29</td>\n",
       "      <td>None</td>\n",
       "      <td>2.981024e+13</td>\n",
       "      <td>Goverment Bond</td>\n",
       "    </tr>\n",
       "    <tr>\n",
       "      <th>186</th>\n",
       "      <td>VR0094</td>\n",
       "      <td>Obligasi Negara Republik Indonesia Seri VR0094</td>\n",
       "      <td>GOVT</td>\n",
       "      <td>2029-12-29</td>\n",
       "      <td>None</td>\n",
       "      <td>2.981024e+13</td>\n",
       "      <td>Goverment Bond</td>\n",
       "    </tr>\n",
       "    <tr>\n",
       "      <th>187</th>\n",
       "      <td>VR0095</td>\n",
       "      <td>Obligasi Negara Republik Indonesia Seri VR0095</td>\n",
       "      <td>GOVT</td>\n",
       "      <td>2030-12-29</td>\n",
       "      <td>None</td>\n",
       "      <td>2.981024e+13</td>\n",
       "      <td>Goverment Bond</td>\n",
       "    </tr>\n",
       "  </tbody>\n",
       "</table>\n",
       "<p>1335 rows × 7 columns</p>\n",
       "</div>"
      ],
      "text/plain": [
       "         BondId                                           BondName IssuerCode  \\\n",
       "0    ABLS01XXMF              MTN Asian Bulk Logistics I Tahun 2022     ABLS-M   \n",
       "1       ABSM01C  Obligasi AB Sinar Mas Multifinance I Tahun 202...       ABSM   \n",
       "2       ADCP01B  Obligasi I Adhi Cummuter Properti Tahun 2021 S...       ADCP   \n",
       "3       ADCP02A  Obligasi II Adhi Commuter Properti Tahun 2022 ...       ADCP   \n",
       "4       ADCP02B  Obligasi II Adhi Commuter Properti Tahun 2022 ...       ADCP   \n",
       "..          ...                                                ...        ...   \n",
       "183      VR0091     Obligasi Negara Republik Indonesia Seri VR0091       GOVT   \n",
       "184      VR0092     Obligasi Negara Republik Indonesia Seri VR0092       GOVT   \n",
       "185      VR0093     Obligasi Negara Republik Indonesia Seri VR0093       GOVT   \n",
       "186      VR0094     Obligasi Negara Republik Indonesia Seri VR0094       GOVT   \n",
       "187      VR0095     Obligasi Negara Republik Indonesia Seri VR0095       GOVT   \n",
       "\n",
       "    MatureDate Rating   Outstanding      IssuerType  \n",
       "0   2027-06-21   None  1.000000e+12  Corporate Bond  \n",
       "1   2023-09-04   irA-  3.500000e+10  Corporate Bond  \n",
       "2   2024-05-20  idBBB  9.000000e+09  Corporate Bond  \n",
       "3   2023-05-31  idBBB  2.055000e+11  Corporate Bond  \n",
       "4   2025-05-24  idBBB  1.020000e+11  Corporate Bond  \n",
       "..         ...    ...           ...             ...  \n",
       "183 2030-12-29   None  2.334195e+12  Goverment Bond  \n",
       "184 2027-12-29   None  2.981024e+13  Goverment Bond  \n",
       "185 2028-12-29   None  2.981024e+13  Goverment Bond  \n",
       "186 2029-12-29   None  2.981024e+13  Goverment Bond  \n",
       "187 2030-12-29   None  2.981024e+13  Goverment Bond  \n",
       "\n",
       "[1335 rows x 7 columns]"
      ]
     },
     "execution_count": 5,
     "metadata": {},
     "output_type": "execute_result"
    }
   ],
   "source": [
    "BEIBondsListDF"
   ]
  },
  {
   "cell_type": "markdown",
   "metadata": {},
   "source": [
    "## Close and Quit Driver"
   ]
  },
  {
   "cell_type": "code",
   "execution_count": 6,
   "metadata": {},
   "outputs": [],
   "source": [
    "driver.quit()"
   ]
  },
  {
   "cell_type": "markdown",
   "metadata": {},
   "source": [
    "# Scrape Bond Details"
   ]
  },
  {
   "cell_type": "markdown",
   "metadata": {},
   "source": [
    "## Get Bond Details Function"
   ]
  },
  {
   "cell_type": "markdown",
   "metadata": {},
   "source": [
    " Well, the website has a weird issue, i can access medium term notes with url intended for corporate / govt bonds<br>\n",
    " MTN example: https://www.ksei.co.id/services/registered-securities/medium-term-notes/lc/ABLS01XXMF<br>\n",
    " Different URL example: https://www.ksei.co.id/services/registered-securities/corporate-bonds/lc/ABLS01XXMF<br>\n",
    " Try it and you can still access the medium term notes<br>\n",
    "'https://www.ksei.co.id/services/registered-securities/medium-term-notes/lc/ABLS01XXMF'<br>\n",
    "'https://www.ksei.co.id/services/registered-securities/government-bonds/lc/FR0037'"
   ]
  },
  {
   "cell_type": "code",
   "execution_count": 7,
   "metadata": {},
   "outputs": [],
   "source": [
    "def get_bond_details(BondId):\n",
    "    while True:\n",
    "        try:\n",
    "            url = 'https://www.ksei.co.id/services/registered-securities/corporate-bonds/lc/' + BondId\n",
    "            response = requests.get(url)\n",
    "            soup = BeautifulSoup(response.content, 'html.parser')\n",
    "            data = {}\n",
    "\n",
    "            # Find the dl tag with class=\"deflist deflist--with-colon\"\n",
    "            dl_tag = soup.find('dl', class_='deflist deflist--with-colon')\n",
    "\n",
    "            # Loop through all dt tags within the dl tag and get their text values\n",
    "            dt_tags = dl_tag.find_all('dt')\n",
    "            for dt in dt_tags:\n",
    "                # Get the text value of the dt tag\n",
    "                dt_text = dt.get_text(strip=True)\n",
    "                # Get the corresponding dd tag and its text value\n",
    "                # find_next_sibling is actually an important function and it's new for me xD\n",
    "                dd_text = dt.find_next_sibling('dd').get_text(strip=True)\n",
    "                # Add the dd_text to the data dictionary with the dt_text as the key\n",
    "                data[dt_text] = dd_text\n",
    "            break\n",
    "        except:\n",
    "            time.sleep(1.5)\n",
    "    \n",
    "    time.sleep(2)\n",
    "    return data"
   ]
  },
  {
   "cell_type": "markdown",
   "metadata": {},
   "source": [
    "## Multithreading with Progress Bar"
   ]
  },
  {
   "cell_type": "markdown",
   "metadata": {},
   "source": [
    "## Load Previous Scraped Data"
   ]
  },
  {
   "cell_type": "code",
   "execution_count": 8,
   "metadata": {},
   "outputs": [
    {
     "ename": "NameError",
     "evalue": "name 'create_engine' is not defined",
     "output_type": "error",
     "traceback": [
      "\u001b[1;31m---------------------------------------------------------------------------\u001b[0m",
      "\u001b[1;31mNameError\u001b[0m                                 Traceback (most recent call last)",
      "Cell \u001b[1;32mIn[8], line 1\u001b[0m\n\u001b[1;32m----> 1\u001b[0m engine \u001b[38;5;241m=\u001b[39m \u001b[43mcreate_engine\u001b[49m(\n\u001b[0;32m      2\u001b[0m     \u001b[38;5;124m\"\u001b[39m\u001b[38;5;124mpostgresql://\u001b[39m\u001b[38;5;132;01m{}\u001b[39;00m\u001b[38;5;124m:\u001b[39m\u001b[38;5;132;01m{}\u001b[39;00m\u001b[38;5;124m@\u001b[39m\u001b[38;5;132;01m{}\u001b[39;00m\u001b[38;5;124m/\u001b[39m\u001b[38;5;132;01m{}\u001b[39;00m\u001b[38;5;124m\"\u001b[39m\u001b[38;5;241m.\u001b[39mformat(\n\u001b[0;32m      3\u001b[0m         os\u001b[38;5;241m.\u001b[39mgetenv(\u001b[38;5;124m'\u001b[39m\u001b[38;5;124mPOSTGRE_USER\u001b[39m\u001b[38;5;124m'\u001b[39m), os\u001b[38;5;241m.\u001b[39mgetenv(\u001b[38;5;124m'\u001b[39m\u001b[38;5;124mPOSTGRE_PW\u001b[39m\u001b[38;5;124m'\u001b[39m), os\u001b[38;5;241m.\u001b[39mgetenv(\u001b[38;5;124m'\u001b[39m\u001b[38;5;124mPOSTGRE_HOST\u001b[39m\u001b[38;5;124m'\u001b[39m), os\u001b[38;5;241m.\u001b[39mgetenv(\u001b[38;5;124m'\u001b[39m\u001b[38;5;124mPOSTGRE_DB\u001b[39m\u001b[38;5;124m'\u001b[39m)\n\u001b[0;32m      4\u001b[0m     )\n\u001b[0;32m      5\u001b[0m )\n\u001b[0;32m      6\u001b[0m conn \u001b[38;5;241m=\u001b[39m engine\u001b[38;5;241m.\u001b[39mconnect()\n",
      "\u001b[1;31mNameError\u001b[0m: name 'create_engine' is not defined"
     ]
    }
   ],
   "source": [
    "engine = create_engine(\n",
    "    \"postgresql://{}:{}@{}/{}\".format(\n",
    "        os.getenv('POSTGRE_USER'), os.getenv('POSTGRE_PW'), os.getenv('POSTGRE_HOST'), os.getenv('POSTGRE_DB')\n",
    "    )\n",
    ")\n",
    "conn = engine.connect()"
   ]
  },
  {
   "cell_type": "code",
   "execution_count": null,
   "metadata": {},
   "outputs": [],
   "source": [
    "try:\n",
    "    prev_bond_details_df = pd.read_sql('SELECT * FROM BondDetails', con=conn)\n",
    "except:\n",
    "    prev_financial_report_df = pd.read_excel('bonds.xlsx')\n",
    "    print('BEIBondsListDF DB Not Available')"
   ]
  },
  {
   "cell_type": "markdown",
   "metadata": {},
   "source": [
    "## Create List to Store Scraped Data"
   ]
  },
  {
   "cell_type": "code",
   "execution_count": null,
   "metadata": {},
   "outputs": [],
   "source": [
    "df_list = []"
   ]
  },
  {
   "cell_type": "code",
   "execution_count": null,
   "metadata": {},
   "outputs": [],
   "source": [
    "with tqdm(total=len(BEIBondsListDF['BondId'])) as pbar:\n",
    "    with ThreadPoolExecutor(max_workers=10) as executor:\n",
    "        futures = []\n",
    "        \n",
    "        for BondId in BEIBondsListDF['BondId']:\n",
    "            if BondId in prev_bond_details_df['BondID']:\n",
    "                continue\n",
    "            else:\n",
    "                future = executor.submit(get_bond_details, BondId)\n",
    "                futures.append(future)\n",
    "\n",
    "        # Use tqdm to add a progress bar to the multithreading process\n",
    "        for future in as_completed(futures):\n",
    "            pbar.update(1)\n",
    "            df_list.append(future.result())"
   ]
  },
  {
   "cell_type": "markdown",
   "metadata": {},
   "source": [
    "## Join All Bond Details and Cleaning"
   ]
  },
  {
   "cell_type": "markdown",
   "metadata": {},
   "source": [
    "### Join Bond Details"
   ]
  },
  {
   "cell_type": "code",
   "execution_count": null,
   "metadata": {},
   "outputs": [],
   "source": [
    "BondDetailsDF = pd.DataFrame(df_list)\n",
    "BondDetailsDF"
   ]
  },
  {
   "cell_type": "code",
   "execution_count": null,
   "metadata": {},
   "outputs": [],
   "source": [
    "BondDetailsDF.columns"
   ]
  },
  {
   "cell_type": "markdown",
   "metadata": {},
   "source": [
    "### Data Transformation<br>\n",
    "<br>\n",
    "1. Some dates are written in Indonesian format string, 'May' is written as 'Mei', so I use dateparser library to tackle this issue and convert it to pandas datetime column<br>\n",
    "2. Interest rate format is string, convert it to float32<br>\n",
    "3. Replace '-' string with NaN"
   ]
  },
  {
   "cell_type": "code",
   "execution_count": null,
   "metadata": {},
   "outputs": [],
   "source": [
    "BondDetailsDF['Listing Date'] = BondDetailsDF['Listing Date'].apply(lambda x: dateparser.parse(x) if x != '-' else np.nan)\n",
    "BondDetailsDF['Mature Date'] = BondDetailsDF['Mature Date'].apply(lambda x: dateparser.parse(x) if ((x != '-') and (type(x) == str)) else np.nan)\n",
    "BondDetailsDF['Effective Date ISIN'] = BondDetailsDF['Effective Date ISIN'].apply(lambda x: dateparser.parse(x) if x != '-' else np.nan)\n",
    "BondDetailsDF['Interest/Disc Rate'] = BondDetailsDF['Interest/Disc Rate'].replace('%', '', regex=True).apply('float32')\n",
    "BondDetailsDF = BondDetailsDF.replace('-', np.nan)"
   ]
  },
  {
   "cell_type": "code",
   "execution_count": null,
   "metadata": {},
   "outputs": [],
   "source": [
    "BondDetailsDF.describe(include='all')"
   ]
  },
  {
   "cell_type": "markdown",
   "metadata": {},
   "source": [
    "### Drop Unnecessary Columns<br>\n",
    "<br>\n",
    "1. Every column dropped has mostly missing value"
   ]
  },
  {
   "cell_type": "code",
   "execution_count": null,
   "metadata": {},
   "outputs": [],
   "source": [
    "BondDetailsDF = BondDetailsDF.drop(columns=['Current Amount', 'Effective Date ISIN', 'Day Count Basis', 'Exercise Price'])"
   ]
  },
  {
   "cell_type": "markdown",
   "metadata": {},
   "source": [
    "# Export Results"
   ]
  },
  {
   "cell_type": "code",
   "execution_count": null,
   "metadata": {},
   "outputs": [],
   "source": [
    "BondDetailsDF['LastScraped'] = datetime.now()\n",
    "BondDetailsDF = pd.concat([prev_bond_details_df, BondDetailsDF])\n",
    "BondDetailsDF"
   ]
  },
  {
   "cell_type": "markdown",
   "metadata": {},
   "source": [
    "## Export to Excel"
   ]
  },
  {
   "cell_type": "code",
   "execution_count": null,
   "metadata": {},
   "outputs": [],
   "source": [
    "# BondDetailsDF.to_excel('bonds.xlsx', index=False)"
   ]
  },
  {
   "cell_type": "markdown",
   "metadata": {},
   "source": [
    "## Export to DB"
   ]
  },
  {
   "cell_type": "code",
   "execution_count": null,
   "metadata": {},
   "outputs": [],
   "source": [
    "BondDetailsDF.to_sql('BondDetails', con=conn, if_exists='replace', index=False)"
   ]
  }
 ],
 "metadata": {
  "kernelspec": {
   "display_name": "web_scraping",
   "language": "python",
   "name": "web_scraping"
  },
  "language_info": {
   "codemirror_mode": {
    "name": "ipython",
    "version": 3
   },
   "file_extension": ".py",
   "mimetype": "text/x-python",
   "name": "python",
   "nbconvert_exporter": "python",
   "pygments_lexer": "ipython3",
   "version": "3.8.0"
  }
 },
 "nbformat": 4,
 "nbformat_minor": 2
}
